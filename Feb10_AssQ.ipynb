{
 "cells": [
  {
   "cell_type": "code",
   "execution_count": 2,
   "id": "cbbd1062",
   "metadata": {},
   "outputs": [],
   "source": [
    "#Q1. Which function is used to open a file? What are the different modes of opening a file? \n",
    "#Explain each mode of file opening."
   ]
  },
  {
   "cell_type": "code",
   "execution_count": 1,
   "id": "02fd9e69",
   "metadata": {},
   "outputs": [],
   "source": [
    "#Ans - Open() function is used to open a file. Modes are r, w, a,b, t and +.\n",
    "# r - read the file\n",
    "# w - writing on the existing file\n",
    "# b - open binary file\n",
    "# t - open text file\n",
    "# + - use for udating file ( reading and  writing)\n",
    "# a - open file and apped date with out truncate "
   ]
  },
  {
   "cell_type": "code",
   "execution_count": 2,
   "id": "2d12e759",
   "metadata": {},
   "outputs": [],
   "source": [
    "#Q2. Why close() function is used? Why is it important to close a file?"
   ]
  },
  {
   "cell_type": "code",
   "execution_count": 3,
   "id": "df4eaad3",
   "metadata": {},
   "outputs": [],
   "source": [
    "#Ans - close() function is used to close a file. You can not see the updates made on file \n",
    "# untill you close file. "
   ]
  },
  {
   "cell_type": "code",
   "execution_count": 4,
   "id": "4fa9416e",
   "metadata": {},
   "outputs": [],
   "source": [
    "#Q3. Write a python program to create a text file. Write ‘I want to become a Data Scientist’ in that file. Then\n",
    "#close the file. Open this file and read the content of the file."
   ]
  },
  {
   "cell_type": "code",
   "execution_count": 2,
   "id": "6b5b8a77",
   "metadata": {},
   "outputs": [],
   "source": [
    " f = open('test.txt','x')"
   ]
  },
  {
   "cell_type": "code",
   "execution_count": 3,
   "id": "c2fd1ebe",
   "metadata": {},
   "outputs": [],
   "source": [
    "f = open('test.txt','w')"
   ]
  },
  {
   "cell_type": "code",
   "execution_count": 4,
   "id": "61de250f",
   "metadata": {},
   "outputs": [
    {
     "data": {
      "text/plain": [
       "33"
      ]
     },
     "execution_count": 4,
     "metadata": {},
     "output_type": "execute_result"
    }
   ],
   "source": [
    "f.write('I want to become a Data Scientist')"
   ]
  },
  {
   "cell_type": "code",
   "execution_count": 5,
   "id": "45c91124",
   "metadata": {},
   "outputs": [],
   "source": [
    "f.close()"
   ]
  },
  {
   "cell_type": "code",
   "execution_count": 7,
   "id": "c2adff73",
   "metadata": {},
   "outputs": [],
   "source": [
    "f = open('test.txt','r')"
   ]
  },
  {
   "cell_type": "code",
   "execution_count": 9,
   "id": "bb1e99d5",
   "metadata": {},
   "outputs": [
    {
     "data": {
      "text/plain": [
       "'I want to become a Data Scientist'"
      ]
     },
     "execution_count": 9,
     "metadata": {},
     "output_type": "execute_result"
    }
   ],
   "source": [
    "f.read()"
   ]
  },
  {
   "cell_type": "code",
   "execution_count": 11,
   "id": "162550ac",
   "metadata": {},
   "outputs": [],
   "source": [
    "# Q4. Explain the following with python code: read(), readline() and readlines()."
   ]
  },
  {
   "cell_type": "code",
   "execution_count": 12,
   "id": "e22ed12e",
   "metadata": {},
   "outputs": [],
   "source": [
    "# Ans - read() - Read whole file. We can mention number of characterss need to read.read(n)\n",
    "# readline() - Read single from bunch of lines in the file\n",
    "# readlines() - Read all lines in the file, when you print, it will retun all lines in a list"
   ]
  },
  {
   "cell_type": "code",
   "execution_count": 13,
   "id": "bdb1a982",
   "metadata": {},
   "outputs": [],
   "source": [
    "#Q5. Explain why with statement is used with open(). What is the advantage of using with \n",
    "#statement and open() together?"
   ]
  },
  {
   "cell_type": "code",
   "execution_count": 14,
   "id": "590414e8",
   "metadata": {},
   "outputs": [],
   "source": [
    "#Ans - With open() opens file for you and statement will close file for you without your let it to."
   ]
  },
  {
   "cell_type": "code",
   "execution_count": 15,
   "id": "559f924d",
   "metadata": {},
   "outputs": [],
   "source": [
    "# Q6. Explain the write() and writelines() functions. Give a suitable example."
   ]
  },
  {
   "cell_type": "code",
   "execution_count": null,
   "id": "4bbb4589",
   "metadata": {},
   "outputs": [],
   "source": [
    "# Ans - write() used to write string in a file, but writelines() used to write number of string\n",
    "# in a list inside a file"
   ]
  }
 ],
 "metadata": {
  "kernelspec": {
   "display_name": "Python 3",
   "language": "python",
   "name": "python3"
  },
  "language_info": {
   "codemirror_mode": {
    "name": "ipython",
    "version": 3
   },
   "file_extension": ".py",
   "mimetype": "text/x-python",
   "name": "python",
   "nbconvert_exporter": "python",
   "pygments_lexer": "ipython3",
   "version": "3.8.8"
  }
 },
 "nbformat": 4,
 "nbformat_minor": 5
}
